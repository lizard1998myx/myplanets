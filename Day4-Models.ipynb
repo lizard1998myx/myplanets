{
 "cells": [
  {
   "cell_type": "code",
   "execution_count": null,
   "id": "5d133b83",
   "metadata": {},
   "outputs": [],
   "source": [
    "# 上午的任务\n",
    "# 1. 创建行星模型\n",
    "# 2. 计算今天行星的直角坐标和天球坐标\n",
    "# 3. 将今天这些天体的三维和天球位置画出\n",
    "# 4. 画出这些天体这个月的三维和天球运动轨迹"
   ]
  },
  {
   "cell_type": "code",
   "execution_count": null,
   "id": "ceb3bb1b",
   "metadata": {},
   "outputs": [],
   "source": [
    "# 导入天体模型\n",
    "from myplanets.planets import OrbitalModel, PreciseModel, CircleModel, EclipseModel\n",
    "# 导入画图工具\n",
    "from myplanets.skymap import Figure3D, Figure3DMap, FigureMap\n",
    "# 导入日期库\n",
    "import datetime"
   ]
  },
  {
   "cell_type": "code",
   "execution_count": null,
   "id": "4ae0664a",
   "metadata": {},
   "outputs": [],
   "source": [
    "# 任务1. 创建行星模型\n",
    "\n",
    "# 初始化模型：地球和太阳\n",
    "# 圆轨道模型的地球\n",
    "earth = CircleModel(1.00, 365.25, 178.36)\n",
    "# 固定不动的太阳\n",
    "sun = OrbitalModel()\n",
    "\n",
    "# 在这里设定你的行星轨道模型，以火星mars为例\n",
    "# 方法1：创建精确模型\n",
    "# mars = PreciseModel('mars', None)\n",
    "# 方法2: 创建圆轨道模型\n",
    "# mars = CircleModel(1.5, 686.96, 291.53)\n",
    "# 方法3: 创建椭圆轨道模型\n",
    "# mars = EclipseModel(1.5, 0.094, 686.95, 121.81, 49.84, 287.6, 1.83)"
   ]
  },
  {
   "cell_type": "code",
   "execution_count": null,
   "id": "046f67bc",
   "metadata": {},
   "outputs": [],
   "source": [
    "# 任务2. 计算今天的天体坐标\n",
    "# 首先，定义变量“today”为今天的日期\n",
    "today = datetime.datetime(2023, 8, 3)"
   ]
  },
  {
   "cell_type": "code",
   "execution_count": null,
   "id": "b0abda6d",
   "metadata": {},
   "outputs": [],
   "source": [
    "# 地球的直角坐标 -> XYZ\n",
    "print('地球的直角坐标是：')\n",
    "print(earth.coord_1(today))"
   ]
  },
  {
   "cell_type": "code",
   "execution_count": null,
   "id": "b7404d34",
   "metadata": {},
   "outputs": [],
   "source": [
    "# 地球上，太阳的天球坐标 -> 赤经赤纬\n",
    "print('太阳的天球坐标是：')\n",
    "print(sun.coord_deg(earth, today))"
   ]
  },
  {
   "cell_type": "code",
   "execution_count": null,
   "id": "58447d28",
   "metadata": {},
   "outputs": [],
   "source": [
    "# 任务3. 将今天的天体坐标画在图上\n",
    "\n",
    "# 初始化画图工具\n",
    "# 若需要修改背景颜色，设定 dark=True\n",
    "# 若需要从内侧看，设定ourside=False\n",
    "f = Figure3DMap(max_xyz=5, dark=False, outside=True)\n",
    "\n",
    "# 画上地球，只需要xyz就可以\n",
    "x, y, z = earth.coord_1(today)\n",
    "f.scatter_xyz(x, y, z, color='blue')\n",
    "\n",
    "# 画上太阳，还需要画天球坐标\n",
    "x, y, z = sun.coord_1(today)\n",
    "ra, dec = sun.coord_deg(earth, today)\n",
    "f.scatter_xyz(x, y, z, color='orange')\n",
    "f.scatter_radec(ra, dec, color='orange')\n",
    "\n",
    "# 在这里，仿照太阳，画上行星的坐标\n",
    "\n",
    "# 画图\n",
    "f.show()"
   ]
  },
  {
   "cell_type": "code",
   "execution_count": null,
   "id": "b697c86b",
   "metadata": {},
   "outputs": [],
   "source": [
    "# 任务4. 轨迹图\n",
    "# 时间列表\n",
    "tlist = []\n",
    "for i in range(31):\n",
    "    tlist.append(datetime.datetime(2023, 7, 3) + datetime.timedelta(days=i))"
   ]
  },
  {
   "cell_type": "code",
   "execution_count": null,
   "id": "9f99a006",
   "metadata": {},
   "outputs": [],
   "source": [
    "# 任务3. 将今天的天体坐标画在图上\n",
    "\n",
    "# 初始化画图工具\n",
    "# 若需要修改背景颜色，设定 dark=True\n",
    "# 若需要从内侧看，设定ourside=False\n",
    "f = Figure3DMap(max_xyz=5, dark=False, outside=True)\n",
    "\n",
    "# 画上地球，只需要xyz就可以\n",
    "x, y, z = earth.coord_1(today)\n",
    "f.scatter_xyz(x, y, z, color='blue')\n",
    "\n",
    "# [new!] 地球轨迹\n",
    "x, y, z = earth.get_xyz(tlist)\n",
    "f.plot_xyz(x, y, z, color='blue')\n",
    "\n",
    "# 画上太阳，还需要画天球坐标\n",
    "x, y, z = sun.coord_1(today)\n",
    "ra, dec = sun.coord_deg(earth, today)\n",
    "f.scatter_xyz(x, y, z, color='orange')\n",
    "f.scatter_radec(ra, dec, color='orange')\n",
    "\n",
    "# [new!] 太阳轨迹\n",
    "x, y, z = sun.get_xyz(tlist)\n",
    "ra, dec = sun.get_radec(earth, tlist)\n",
    "f.plot_xyz(x, y, z, color='orange')\n",
    "f.plot_radec(ra, dec, color='orange')\n",
    "\n",
    "# [new!] 在这里，仿照太阳，画上行星的坐标和轨迹\n",
    "\n",
    "# 画图\n",
    "f.show()"
   ]
  },
  {
   "cell_type": "code",
   "execution_count": null,
   "id": "56f63eed",
   "metadata": {},
   "outputs": [],
   "source": []
  }
 ],
 "metadata": {
  "kernelspec": {
   "display_name": "Python 3 (ipykernel)",
   "language": "python",
   "name": "python3"
  },
  "language_info": {
   "codemirror_mode": {
    "name": "ipython",
    "version": 3
   },
   "file_extension": ".py",
   "mimetype": "text/x-python",
   "name": "python",
   "nbconvert_exporter": "python",
   "pygments_lexer": "ipython3",
   "version": "3.9.12"
  }
 },
 "nbformat": 4,
 "nbformat_minor": 5
}
