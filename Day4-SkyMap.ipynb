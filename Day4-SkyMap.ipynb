{
 "cells": [
  {
   "cell_type": "code",
   "execution_count": null,
   "id": "ae25c0ec",
   "metadata": {},
   "outputs": [],
   "source": [
    "# 导入天体模型\n",
    "from myplanets.planets import OrbitalModel, PreciseModel, CircleModel, EclipseModel\n",
    "# 导入画图工具\n",
    "from myplanets.skymap import Figure3D, Figure3DMap, FigureMap\n",
    "# 导入日期库\n",
    "import datetime"
   ]
  },
  {
   "cell_type": "code",
   "execution_count": null,
   "id": "362ed05a",
   "metadata": {},
   "outputs": [],
   "source": [
    "# 导入星表\n",
    "from myplanets.starcat import drop_parrallax, get_BSCupdate_cat, get_cons_ids, get_RGB_list, get_pixel_size\n",
    "\n",
    "cat_df = drop_parrallax(get_BSCupdate_cat('myBSCupdate1arcmin.csv'))\n",
    "con_id = get_cons_ids(filename='cons_lines.txt', catalogue_df=cat_df)\n",
    "\n",
    "cat_df['RGB'] = get_RGB_list(cat_df['B-V'].values)\n",
    "cat_df['pix_size'] = get_pixel_size(cat_df['Vmag'].values)"
   ]
  },
  {
   "cell_type": "code",
   "execution_count": null,
   "id": "5a59ce28",
   "metadata": {},
   "outputs": [],
   "source": [
    "# 初始化图像，设置为从内往外，暗色背景\n",
    "f = FigureMap(dark=True, outside=False)\n",
    "\n",
    "# 画星座连线，白色，线宽为1.0\n",
    "f.plot_constellation(cat_df, con_id, color='white', lw=1.0)\n",
    "\n",
    "# 画亮星，真实颜色\n",
    "f.plot_stars(cat_df=cat_df, size_func=lambda x: 20*x**2)\n",
    "\n",
    "# 画图\n",
    "f.show()"
   ]
  },
  {
   "cell_type": "code",
   "execution_count": null,
   "id": "1e0cf096",
   "metadata": {},
   "outputs": [],
   "source": [
    "# 初始化图像，设置为从内往外，白色背景\n",
    "f = FigureMap(dark=False, outside=False)\n",
    "\n",
    "# 画星座连线，灰色，线宽为1.0\n",
    "f.plot_constellation(cat_df, con_id, color='grey', lw=1.0)\n",
    "\n",
    "# 画亮星，黑色，大小表示亮度\n",
    "f.plot_stars(cat_df=cat_df, size_func=lambda x: 20*x**2, color='black')\n",
    "\n",
    "# 画图\n",
    "f.show()"
   ]
  }
 ],
 "metadata": {
  "kernelspec": {
   "display_name": "Python 3 (ipykernel)",
   "language": "python",
   "name": "python3"
  },
  "language_info": {
   "codemirror_mode": {
    "name": "ipython",
    "version": 3
   },
   "file_extension": ".py",
   "mimetype": "text/x-python",
   "name": "python",
   "nbconvert_exporter": "python",
   "pygments_lexer": "ipython3",
   "version": "3.9.12"
  }
 },
 "nbformat": 4,
 "nbformat_minor": 5
}
