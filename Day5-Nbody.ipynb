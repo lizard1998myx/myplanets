{
 "cells": [
  {
   "cell_type": "code",
   "execution_count": null,
   "id": "f72d49f4",
   "metadata": {},
   "outputs": [],
   "source": [
    "# 上午的任务\n",
    "# 1. 创建太阳系N体模型\n",
    "# 2. 创建自定三体模型"
   ]
  },
  {
   "cell_type": "code",
   "execution_count": null,
   "id": "e671ab37",
   "metadata": {},
   "outputs": [],
   "source": [
    "from myplanets.nbody import NbodyModel, NbodyCalculator, get_xv, get_models\n",
    "import datetime"
   ]
  },
  {
   "cell_type": "code",
   "execution_count": null,
   "id": "07d4944c",
   "metadata": {},
   "outputs": [],
   "source": [
    "# 任务1. 创建太阳系N体模型\n",
    "# 设定初始时间\n",
    "time_start = datetime.datetime(2023, 1, 1)\n",
    "\n",
    "# 目标天体名称，用于查询初值，仅限太阳系天体\n",
    "# 0 - 太阳，1 - 水星，2 - 金星，3 - 地球，4 - 火星，5 - 木星，6 - 土星，7 - 天王星，8 - 海王星\n",
    "targets = ['Sun', 'Mercury', 'Venus', 'Earth', 'Mars', 'Jupiter', 'Saturn', 'Uranus', 'Neptune']\n",
    "# 目标天体质量，单位为“太阳质量”（1 太阳质量 = 1.989×10^30 kg）\n",
    "# 数字 1.5e-10 为科学计数法，表示 1.5 除以 10的10次方（或乘以10的负10次方）\n",
    "masses = [1.0, 1.659e-07, 2.448e-06, 3.002e-06, 3.228e-07, 9.553e-4, 2.861e-4, 4.354e-05, 5.178e-05]\n",
    "\n",
    "# 初始化模型列表\n",
    "model_list = []\n",
    "for i in range(len(targets)):\n",
    "    x, v = get_xv(targets[i], time_start)  # 获取该天体在初始时间的位置和速度\n",
    "    model = NbodyModel(mass=masses[i], x=x, v=v)  # 生成模型\n",
    "    model_list.append(model)\n",
    "    \n",
    "# 将模型放入N体模拟计算器，进行运算\n",
    "ncal = NbodyCalculator(model_list)\n",
    "# 计算从初始日期往后2年（tmax，单位：年）的数据，计算精度为0.5天（max_step，单位：年）\n",
    "# 思考：如果想计算更长时间，需要修改哪个参数？\n",
    "ncal.run(tmax=2, max_step=0.5/365.25, atol=1e-7, rtol=1e-4, method='RK45')\n",
    "# 将计算结果存入模型变量中\n",
    "ncal.assign_values()"
   ]
  },
  {
   "cell_type": "code",
   "execution_count": null,
   "id": "c66124e3",
   "metadata": {},
   "outputs": [],
   "source": [
    "# 你能计算某颗行星（如水星，model_list[1]）相对地球（model_list[3]）的天球坐标吗？\n",
    "# 提示：目标模型.coord_deg(地球模型, 时间)\n",
    "# 将你的代码写在下方：\n",
    "\n"
   ]
  },
  {
   "cell_type": "code",
   "execution_count": null,
   "id": "880f188a",
   "metadata": {},
   "outputs": [],
   "source": [
    "# 你能计算这颗行星在2023年上半年在三维空间和天球上的运动轨迹吗？\n",
    "# 提示：参考Day4-Model的部分\n",
    "\n",
    "# 上半年时间列表\n",
    "tlist = []\n",
    "for i in range(183):\n",
    "    tlist.append(datetime.datetime(2023, 1, 1) + datetime.timedelta(days=i))\n",
    "    \n",
    "# 接下来初始化图像，并画图\n",
    "# 将你的代码写在下方：\n",
    "\n"
   ]
  },
  {
   "cell_type": "code",
   "execution_count": null,
   "id": "ec448bc9",
   "metadata": {},
   "outputs": [],
   "source": [
    "# 任务2. 创建自己的三体系统\n",
    "# 设定初始时间（任意）\n",
    "time_start = datetime.datetime(2023, 1, 1)\n",
    "\n",
    "# 三个天体的质量（单位：太阳质量，1 太阳质量 = 1.989×10^30 kg）\n",
    "mlist = [1.1, 1.0, 0.9]\n",
    "# 三个天体的初始位置（单位：天文单位AU，1 AU = 1.496×10^8 km）\n",
    "xlist = [[0, 1, 1], [0, -1, -0.5], [3**0.5, 0, 0]]\n",
    "# 三个天体的初始速度（单位：天文单位每年 AU/yr，1 AU/yr = 4.74 km/s\n",
    "vlist = [[3**0.5, 1, 0],\n",
    "         [-1, 3**0.5, 0],\n",
    "         [0, -3, 0]]\n",
    "\n",
    "# 自动获得模型列表\n",
    "# 如果需要调整画面中心，可以将recenter置为True\n",
    "model_list = get_models(mlist, xlist, vlist, time_start, recenter=False)\n",
    "\n",
    "# 将模型放入N体模拟计算器，进行运算\n",
    "ncal = NbodyCalculator(model_list)\n",
    "# 计算从初始日期往后10年（tmax，单位：年）的数据，计算精度为0.1天（max_step，单位：年）\n",
    "# 这里的相对误差项rtol取了更小的值\n",
    "ncal.run(tmax=10, max_step=0.1/365.25, atol=1e-7, rtol=1e-6, method='RK45')\n",
    "# 将计算结果存入模型变量中\n",
    "ncal.assign_values()"
   ]
  },
  {
   "cell_type": "code",
   "execution_count": null,
   "id": "9777ce27",
   "metadata": {},
   "outputs": [],
   "source": [
    "# 你能计算从任意一颗天体观察另一个天体在某一个时刻的天球坐标吗？\n",
    "# 提示：目标天体模型.coord_deg(观测者天体, 时间)\n",
    "# 将你的代码写在下方：\n",
    "\n"
   ]
  },
  {
   "cell_type": "code",
   "execution_count": null,
   "id": "87a3881b",
   "metadata": {},
   "outputs": [],
   "source": []
  }
 ],
 "metadata": {
  "kernelspec": {
   "display_name": "Python 3 (ipykernel)",
   "language": "python",
   "name": "python3"
  },
  "language_info": {
   "codemirror_mode": {
    "name": "ipython",
    "version": 3
   },
   "file_extension": ".py",
   "mimetype": "text/x-python",
   "name": "python",
   "nbconvert_exporter": "python",
   "pygments_lexer": "ipython3",
   "version": "3.9.12"
  }
 },
 "nbformat": 4,
 "nbformat_minor": 5
}
