{
 "cells": [
  {
   "cell_type": "code",
   "execution_count": null,
   "id": "0c2f58c1",
   "metadata": {},
   "outputs": [],
   "source": [
    "# 拓展：画上星表，筛选星座\n",
    "# 1. 读取默认的星表和完整星座表\n",
    "# 2. 获得新星表\n",
    "# 3. 筛选得到部分星座表"
   ]
  },
  {
   "cell_type": "code",
   "execution_count": null,
   "id": "7a74f795",
   "metadata": {},
   "outputs": [],
   "source": [
    "# 1. 读取默认星表和星座表\n",
    "# 导入画图工具\n",
    "from myplanets.skymap import Figure3D, Figure3DMap, FigureMap\n",
    "# 导入星表\n",
    "from myplanets.starcat import drop_parrallax, get_BSCupdate_cat, get_cons_ids, get_RGB_list, get_pixel_size\n",
    "# 导入星表调整工具\n",
    "from myplanets.starcat import move_cat_df, get_cons_names, filter_con_id\n",
    "\n",
    "# 读取现有星表和星座表\n",
    "cat_df = drop_parrallax(get_BSCupdate_cat('myBSCupdate1arcmin.csv'))\n",
    "con_id = get_cons_ids(filename='cons_lines.txt', catalogue_df=cat_df)\n",
    "\n",
    "# 计算星表的颜色和像素大小\n",
    "cat_df['RGB'] = get_RGB_list(cat_df['B-V'].values)\n",
    "cat_df['pix_size'] = get_pixel_size(cat_df['Vmag'].values)"
   ]
  },
  {
   "cell_type": "code",
   "execution_count": null,
   "id": "7e630362",
   "metadata": {},
   "outputs": [],
   "source": [
    "# 2. 获得新星表 new_cat_df\n",
    "\n",
    "# 移动位置/推移时间，生成新星表\n",
    "# 目前表示往比邻星方向前进4.24光年，时间在2500年后\n",
    "# ra_deg, dec_deg 表示移动方向的经纬度，travel_ly 为移动的距离（单位：光年）\n",
    "# time_year 为推移的时间（单位：年）\n",
    "# add_sun 为 True 时，将太阳加入星表（建议移动距离大于零时放入）\n",
    "new_cat_df = move_cat_df(cat_df, time_year=2500, ra_deg=217.5, dec_deg=-62.8, travel_ly=4.24, add_sun=True)\n",
    "\n",
    "new_cat_df['RGB'] = get_RGB_list(new_cat_df['B-V'].values)\n",
    "new_cat_df['pix_size'] = get_pixel_size(new_cat_df['Vmag'].values)"
   ]
  },
  {
   "cell_type": "code",
   "execution_count": null,
   "id": "45a09b18",
   "metadata": {},
   "outputs": [],
   "source": [
    "# 3. 筛选出12星座表 con_12\n",
    "con_names = get_cons_names()\n",
    "# 输入旧星座表、星座名称表、所需星座名称列表\n",
    "con_12 = filter_con_id(con_id, con_names,\n",
    "                       include_list=['Aqr', 'Tau', 'Gem', 'Cnc', 'Leo', 'Vir', 'Lib', 'Sco', 'Sgr', 'Cap', 'Aqr', 'Psc'])"
   ]
  },
  {
   "cell_type": "code",
   "execution_count": null,
   "id": "a4ee88ac",
   "metadata": {},
   "outputs": [],
   "source": [
    "# 你能把新的星图画出来吗\n",
    "# 提示：参考Day4-SkyMap\n",
    "# 提示：将 cat_df 换成 new_cat_df，将 con_id 换成 con_12"
   ]
  },
  {
   "cell_type": "code",
   "execution_count": null,
   "id": "7f963ff1",
   "metadata": {},
   "outputs": [],
   "source": []
  }
 ],
 "metadata": {
  "kernelspec": {
   "display_name": "Python 3 (ipykernel)",
   "language": "python",
   "name": "python3"
  },
  "language_info": {
   "codemirror_mode": {
    "name": "ipython",
    "version": 3
   },
   "file_extension": ".py",
   "mimetype": "text/x-python",
   "name": "python",
   "nbconvert_exporter": "python",
   "pygments_lexer": "ipython3",
   "version": "3.9.12"
  }
 },
 "nbformat": 4,
 "nbformat_minor": 5
}
